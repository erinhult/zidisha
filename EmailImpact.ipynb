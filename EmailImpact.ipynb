{
 "metadata": {
  "name": "",
  "signature": "sha256:7f62401b5291551e6037157be254657af0ef13524b844a3bbdefd393b0761878"
 },
 "nbformat": 3,
 "nbformat_minor": 0,
 "worksheets": [
  {
   "cells": [
    {
     "cell_type": "code",
     "collapsed": false,
     "input": [
      "import pymysql as mdb\n",
      "import pandas as pd\n",
      "import matplotlib.pyplot as plt\n",
      "import numpy as np\n",
      "import time\n",
      "import datetime \n",
      "import matplotlib.dates as mdates\n",
      "import matplotlib.cbook as cbook\n",
      "\n",
      "#from patsy import dmatrices\n",
      "from sklearn.linear_model import LogisticRegression\n",
      "from sklearn.cross_validation import train_test_split\n",
      "from sklearn import metrics\n",
      "from sklearn.cross_validation import cross_val_score\n",
      "from sklearn.ensemble import RandomForestClassifier\n",
      "\n",
      "plt.rcParams['figure.figsize'] =6,4 # plotsize\n"
     ],
     "language": "python",
     "metadata": {},
     "outputs": [],
     "prompt_number": 2
    },
    {
     "cell_type": "code",
     "collapsed": false,
     "input": [
      "db = mdb.connect(user=\"root\", host=\"localhost\", db=\"zidisha\", charset='utf8')\n",
      "dfloans = pd.read_sql(\"SELECT * from loanapplic  \", db)\n",
      "dfbids = pd.read_sql(\"SELECT * from loanbids  \", db)\n",
      "dflenders = pd.read_sql(\"SELECT * from lenders  \", db)\n"
     ],
     "language": "python",
     "metadata": {},
     "outputs": [],
     "prompt_number": 942
    },
    {
     "cell_type": "markdown",
     "metadata": {},
     "source": [
      "Training period data\n",
      "Determine # of defaults and total amount lended for each lenderid"
     ]
    },
    {
     "cell_type": "code",
     "collapsed": false,
     "input": [
      "lendemail=dflenders[['userid','last_check_in_email']]\n",
      "lendemail.columns = ['userid','emaildate']\n",
      "#print(type(lendemail.ix[10,1]))\n",
      "lendemail['email']=lendemail['emaildate']>datetime.date(2000,1,1)"
     ],
     "language": "python",
     "metadata": {},
     "outputs": [],
     "prompt_number": 4
    },
    {
     "cell_type": "markdown",
     "metadata": {},
     "source": [
      "First, we'll consider whether engagement (#s or $s) increases after emails were sent \n",
      "\n",
      "(Then later we'll compare those who received emails to those who didn't)"
     ]
    },
    {
     "cell_type": "code",
     "collapsed": false,
     "input": [
      "\n",
      "#Join bid dates with lender info on lender id\n",
      "bidsA=pd.merge(dfbids[['lenderid','biddate','givenamount']],lendemail,\\\n",
      "               left_on='lenderid',right_on='userid')\n",
      "bidsA['biddate']=bidsA['biddate'].apply(int)\n",
      "\n",
      "\n",
      "#select only lenders with non-zero email dates\n",
      "bidsB=bidsA[bidsA['emaildate']>datetime.date(2000,1,1)]\n",
      "\n",
      "#Add a variable, postE, listing time until email date in months\n",
      "# Positive when email is after biddate, so months BEFORE email\n",
      "bidsB['preE']=([time.mktime(x.timetuple()) for x in bidsB['emaildate']]\\\n",
      "                 - bidsB['biddate'].apply(int))/(86400*365*1/12)\n",
      "\n",
      "NM=2 #number of months before / after to consider\n",
      "\n",
      "# list true for each bid that is in the before / after window\n",
      "bidsB['npE']=(bidsB['preE']<NM) & (bidsB['preE']>0)\n",
      "bidsB['naE']=(bidsB['preE']>-NM) & (bidsB['preE']<0)\n",
      "bidsB['amtpreE']=bidsB['npE']*bidsB['givenamount']\n",
      "bidsB['amtaftE']=bidsB['naE']*bidsB['givenamount']\n",
      "# sum values in table aggregated to lender level\n",
      "grpBid=bidsB.groupby('lenderid')\n",
      "LendTab=grpBid.agg({'npE':np.sum,\n",
      "                   'naE':np.sum,\n",
      "                   'amtpreE':np.sum,\n",
      "                   'amtaftE':np.sum,\n",
      "                   'biddate':np.min,\n",
      "                   'emaildate':np.min,\n",
      "                   'preE': np.max})\n",
      "LendTab=LendTab.reset_index()"
     ],
     "language": "python",
     "metadata": {},
     "outputs": [],
     "prompt_number": 5
    },
    {
     "cell_type": "code",
     "collapsed": false,
     "input": [
      "LendTab['dif']=LendTab['naE']-LendTab['npE']\n",
      "LendTab['difdol']=(LendTab['amtaftE']-LendTab['amtpreE'])/NM"
     ],
     "language": "python",
     "metadata": {},
     "outputs": [],
     "prompt_number": 946
    },
    {
     "cell_type": "code",
     "collapsed": false,
     "input": [
      "# Personal Emails were sent to all inactive users (joining before May 2014)\n",
      "# Does email make a difference? Ie, do more lend (or lend more money) \n",
      "# in the months following the email?\n",
      "\n",
      "# Pull only users joining prior to date listed\n",
      "\n",
      "olderUsers=LendTab[LendTab['biddate']<time.mktime(datetime.datetime(2014,2,1)\\\n",
      "                                          .timetuple()) ]\n",
      "nonzer=olderUsers[olderUsers['difdol']!=0]\n"
     ],
     "language": "python",
     "metadata": {},
     "outputs": [],
     "prompt_number": 947
    },
    {
     "cell_type": "code",
     "collapsed": false,
     "input": [
      "print('Number of older, inactive lenders receiving personal email: %i'% (len(olderUsers)))\n",
      "print('Number of lenders with non-zero lending after email: %i' % (len(nonzer)))\n",
      "print('Mean difference in monthly lending (post-pre): $%f' % \\\n",
      "      (sum(olderUsers['difdol'])/len(olderUsers['difdol'])))\n",
      "print('Mean difference of non-zero values: $%f' % (sum(nonzer['difdol'])/len(nonzer['difdol'])))"
     ],
     "language": "python",
     "metadata": {},
     "outputs": [
      {
       "output_type": "stream",
       "stream": "stdout",
       "text": [
        "Number of older, inactive lenders receiving personal email: 956\n",
        "Number of lenders with non-zero lending after email: 50\n",
        "Mean difference in monthly lending (post-pre): $1.198656\n",
        "Mean difference of non-zero values: $22.918300\n"
       ]
      }
     ],
     "prompt_number": 948
    },
    {
     "cell_type": "code",
     "collapsed": false,
     "input": [
      "fig, ax = plt.subplots()\n",
      "plt.hist(list(olderUsers['difdol']),40);\n",
      "ylabel('number of lenders')\n",
      "xlabel('difference in lending');"
     ],
     "language": "python",
     "metadata": {},
     "outputs": [
      {
       "metadata": {},
       "output_type": "display_data",
       "png": "[encoded data removed]",
       "text": [
        "<matplotlib.figure.Figure at 0x13d1d4ad0>"
       ]
      }
     ],
     "prompt_number": 949
    },
    {
     "cell_type": "markdown",
     "metadata": {},
     "source": [
      "The figure above shows the increase in lending amongst inactive lenders who received a personal email from Zidisha staff. Emails were sent in spring of 2014, and comparison was the difference between the mean of two months prior and two months post-email. Most commonly, there was no difference, as users were inactive and remained inactive. A few lenders had made a loan in the two months prior and did not make a loan in the post period (negative values), but a larger number had increased lending in the post period. The mean effect was an increase in lending of $1.19/month, so not a whole lot. \n",
      "\n",
      "------------------------------------------------------------------------------------------------"
     ]
    },
    {
     "cell_type": "markdown",
     "metadata": {},
     "source": [
      "Now, let's look at the impact of emails to those who joined more recently. [Note, we've skipped over those who joined between 2/1 and 5/1 2014. This is in part because for the older users, we wanted to do a before/after comparison, and so did not want users who's before period was less than the full 2 months, and also because the large surge of lenders who joined in April had atypical behavior.\n",
      "\n",
      "Here, sometimes the email came pretty quickly after joining, so using before / after email may be challenging. \n",
      "\n",
      "Ideally, we want to compare loans per month ($/mon) for those who got an email, with those joining at the same time who did not. The tricky part is, emails do not always come a consistent length of time after joining, so which period should be used as comparison? Here I calculated the median time between a lender's first bid and receiving the personal email to get an 'effective time until email', that I could use for the control group that did not receive personal emails. \n",
      "\n"
     ]
    },
    {
     "cell_type": "code",
     "collapsed": false,
     "input": [
      "grpBidA=bidsA.groupby('lenderid')\n",
      "aComp=grpBidA.agg({'biddate':np.min,\n",
      "                     'email':np.min,\n",
      "                     'emaildate':np.min})\n",
      "aComp=aComp.reset_index()\n",
      "newerU=aComp[aComp['biddate']>time.mktime(datetime.datetime(2014,4,25)\\\n",
      "                                          .timetuple()) ]\n",
      "newerU['join2email']=([np.nan if pd.isnull(x) else time.mktime(x.timetuple()) \\\n",
      "                       for x in \\\n",
      "                       newerU['emaildate']]- \\\n",
      "                       newerU['biddate'])/(86400*365*1/12)\n",
      "medLag=np.median(newerU['join2email'][newerU['email']==True])\n",
      "#Set an effective mail date for those in control group\n",
      "newerU['efEmail']=([(y+medLag*(86400*365*1/12)) if pd.isnull(x) else time.mktime(x.timetuple()) \\\n",
      "                    for x,y in \\\n",
      "                       zip(newerU['emaildate'],newerU['biddate'])])\\\n",
      "\n",
      "newerU.rename(columns={'biddate':'joindate'}, inplace=True)\n",
      "\n",
      "#recombine at bid level to calculate bids since email date\n",
      "rebid=pd.merge(newerU[['lenderid','efEmail','joindate','email']],bidsA[['lenderid','biddate',\\\n",
      "               'givenamount']],\n",
      "               left_on='lenderid',right_on='lenderid',how='left')\n",
      "\n",
      "#Calculate money lent in each of the 1,2,3,4th months following email receipt\n",
      "\n",
      "rebid['mon1lend']=rebid['givenamount']*((rebid['biddate']>rebid['efEmail'])\\\n",
      "                                        &(rebid['biddate']<(rebid['efEmail']+\n",
      "                                    (1.*86400*365*1/12))))\n",
      "rebid['mon2lend']=rebid['givenamount']*((rebid['biddate']>(rebid['efEmail']\\\n",
      "                                         +(86400*365*1/12)))\n",
      "                                        &(rebid['biddate']<(rebid['efEmail']+\n",
      "                                    (2*86400*365*1/12))))\n",
      "rebid['mon3lend']=rebid['givenamount']*((rebid['biddate']>(rebid['efEmail']\\\n",
      "                                         +(86400*365*2/12)))\n",
      "                                        &(rebid['biddate']<(rebid['efEmail']+\n",
      "                                    (86400*365*3/12))))\n",
      "rebid['mon4lend']=rebid['givenamount']*((rebid['biddate']>(rebid['efEmail']\\\n",
      "                                         +(86400*365*3/12)))\n",
      "                                        &(rebid['biddate']<(rebid['efEmail']+\n",
      "                                    (86400*365*4/12))))\n",
      "\n",
      "#total amount given during the half-month before email was received\n",
      "rebid['prelend']=rebid['givenamount']*((rebid['biddate']>(rebid['efEmail']\\\n",
      "                                         -(86400*365*.5/12)))\n",
      "                                        &(rebid['biddate']<(rebid['efEmail']-86400)))\n",
      "rebid['prelendA']=rebid['givenamount']*((rebid['biddate']>rebid['joindate'])\n",
      "                                        &(rebid['biddate']<(rebid['efEmail']-86400)))\\\n",
      "                                    /((rebid['efEmail']-rebid['joindate'])/(86400*365/12))\n",
      "\n",
      "newComp=rebid.groupby('lenderid').agg({'mon1lend':np.sum,\n",
      "                   'mon2lend':np.sum,\n",
      "                   'mon3lend':np.sum,\n",
      "                   'mon4lend':np.sum,\n",
      "                   'prelend':np.sum,\n",
      "                   'prelendA':np.sum,\n",
      "                   'email':np.min,\n",
      "                   'efEmail':np.min,\n",
      "                   'joindate':np.min})\n"
     ],
     "language": "python",
     "metadata": {},
     "outputs": [],
     "prompt_number": 739
    },
    {
     "cell_type": "code",
     "collapsed": false,
     "input": [
      "maxdate=max(bidsA['biddate'])\n",
      "# if the number of months since the email is less than, the post period set amt given to NaN \n",
      "newComp['mon4lend'][(newComp['efEmail']+(86400*365*4/12))>maxdate]=np.nan\n",
      "newComp['mon3lend'][(newComp['efEmail']+(86400*365*3/12))>maxdate]=np.nan\n",
      "newComp['mon2lend'][(newComp['efEmail']+(86400*365*2/12))>maxdate]=np.nan\n",
      "newComp['mon1lend'][(newComp['efEmail']+(86400*365*1/12))>maxdate]=np.nan\n"
     ],
     "language": "python",
     "metadata": {},
     "outputs": [],
     "prompt_number": 740
    },
    {
     "cell_type": "code",
     "collapsed": false,
     "input": [
      "#Add columns to show activity in these periods\n",
      "newComp['preact']=[int(x>0) if np.isfinite(x) else np.nan \\\n",
      "                   for x in newComp['prelend']]\n",
      "newComp['preactA']=[int(x>0) if np.isfinite(x) else np.nan \\\n",
      "                   for x in newComp['prelendA']]\n",
      "newComp['mon1act']=[int(x>0) if np.isfinite(x) else np.nan \\\n",
      "                   for x in newComp['mon1lend']]\n",
      "newComp['mon2act']=[int(x>0) if np.isfinite(x) else np.nan \\\n",
      "                   for x in newComp['mon2lend']]\n",
      "newComp['mon3act']=[int(x>0) if np.isfinite(x) else np.nan \\\n",
      "                   for x in newComp['mon3lend']]\n",
      "newComp['postSum']=[nanmean([x,y,z]) for x,y,z in \\\n",
      "                           zip(newComp['mon1lend'],newComp['mon2lend'],\\\n",
      "                                newComp['mon3lend'])]"
     ],
     "language": "python",
     "metadata": {},
     "outputs": [],
     "prompt_number": 741
    },
    {
     "cell_type": "code",
     "collapsed": false,
     "input": [
      "figure(num=None, figsize=(9, 4))\n",
      "a=subplot(1,2,1)\n",
      "lendingbymonth=newComp[['prelendA','mon1lend','mon2lend','mon3lend','email',]]\\\n",
      "    .groupby('email').mean()\n",
      "plt.bar([1,2,3,4],lendingbymonth.iloc[0,:],width=.3)\n",
      "plt.bar([1.3,2.3,3.3,4.3],lendingbymonth.iloc[1,:],width=.3,color='red')\n",
      "plt.xticks([1.3,2.3,3.3,4.3], ['monthly average prior','1st month post',\\\n",
      "                               '2nd month post',\\\n",
      "             '3rd month post','4th month post'], rotation='vertical');\n",
      "a.set_ylabel('average $ loaned/lender')\n",
      "\n",
      "b=subplot(1,2,2)\n",
      "activitybymonth=newComp[['preactA','mon1act','mon2act','mon3act','email',]]\\\n",
      "    .groupby('email').mean()\n",
      "plt.bar([1,2,3,4],activitybymonth.iloc[0,:],width=.3)\n",
      "plt.bar([1.3,2.3,3.3,4.3],activitybymonth.iloc[1,:],width=.3,color='red')\n",
      "plt.xticks([1.3,2.3,3.3,4.3], ['active btwn bid1 & email','1st month post',\\\n",
      "                               '2nd month post',\\\n",
      "             '3rd month post','4th month post'], rotation='vertical');\n",
      "b.set_ylabel('fraction active')"
     ],
     "language": "python",
     "metadata": {},
     "outputs": [
      {
       "metadata": {},
       "output_type": "pyout",
       "prompt_number": 950,
       "text": [
        "<matplotlib.text.Text at 0x13e270c90>"
       ]
      },
      {
       "metadata": {},
       "output_type": "display_data",
       "png": "[encoded data removed]",
       "text": [
        "<matplotlib.figure.Figure at 0x13e018910>"
       ]
      }
     ],
     "prompt_number": 950
    },
    {
     "cell_type": "markdown",
     "metadata": {},
     "source": [
      "The graph above compares lending and activity for control (blue) and treatment (red) groups, using all of the data in that time period. The main issue here is that lending levels were quite different before the emails were sent, making it difficult to interpret the lending levels after the email was sent. "
     ]
    },
    {
     "cell_type": "code",
     "collapsed": false,
     "input": [
      "lendingbymonth"
     ],
     "language": "python",
     "metadata": {},
     "outputs": [
      {
       "html": [
        "<div style=\"max-height:1000px;max-width:1500px;overflow:auto;\">\n",
        "<table border=\"1\" class=\"dataframe\">\n",
        "  <thead>\n",
        "    <tr style=\"text-align: right;\">\n",
        "      <th></th>\n",
        "      <th>prelendA</th>\n",
        "      <th>mon1lend</th>\n",
        "      <th>mon2lend</th>\n",
        "      <th>mon3lend</th>\n",
        "    </tr>\n",
        "    <tr>\n",
        "      <th>email</th>\n",
        "      <th></th>\n",
        "      <th></th>\n",
        "      <th></th>\n",
        "      <th></th>\n",
        "    </tr>\n",
        "  </thead>\n",
        "  <tbody>\n",
        "    <tr>\n",
        "      <th>False</th>\n",
        "      <td> 131.773393</td>\n",
        "      <td> 21.398794</td>\n",
        "      <td> 22.027579</td>\n",
        "      <td>  1.467391</td>\n",
        "    </tr>\n",
        "    <tr>\n",
        "      <th>True </th>\n",
        "      <td> 237.028695</td>\n",
        "      <td> 37.722073</td>\n",
        "      <td> 26.175279</td>\n",
        "      <td> 24.153245</td>\n",
        "    </tr>\n",
        "  </tbody>\n",
        "</table>\n",
        "</div>"
       ],
       "metadata": {},
       "output_type": "pyout",
       "prompt_number": 951,
       "text": [
        "         prelendA   mon1lend   mon2lend   mon3lend\n",
        "email                                             \n",
        "False  131.773393  21.398794  22.027579   1.467391\n",
        "True   237.028695  37.722073  26.175279  24.153245"
       ]
      }
     ],
     "prompt_number": 951
    },
    {
     "cell_type": "code",
     "collapsed": false,
     "input": [
      "activitybymonth"
     ],
     "language": "python",
     "metadata": {},
     "outputs": [
      {
       "html": [
        "<div style=\"max-height:1000px;max-width:1500px;overflow:auto;\">\n",
        "<table border=\"1\" class=\"dataframe\">\n",
        "  <thead>\n",
        "    <tr style=\"text-align: right;\">\n",
        "      <th></th>\n",
        "      <th>preactA</th>\n",
        "      <th>mon1act</th>\n",
        "      <th>mon2act</th>\n",
        "      <th>mon3act</th>\n",
        "    </tr>\n",
        "    <tr>\n",
        "      <th>email</th>\n",
        "      <th></th>\n",
        "      <th></th>\n",
        "      <th></th>\n",
        "      <th></th>\n",
        "    </tr>\n",
        "  </thead>\n",
        "  <tbody>\n",
        "    <tr>\n",
        "      <th>False</th>\n",
        "      <td> 0.517028</td>\n",
        "      <td> 0.222222</td>\n",
        "      <td> 0.228070</td>\n",
        "      <td> 0.086957</td>\n",
        "    </tr>\n",
        "    <tr>\n",
        "      <th>True </th>\n",
        "      <td> 0.482673</td>\n",
        "      <td> 0.256329</td>\n",
        "      <td> 0.241497</td>\n",
        "      <td> 0.183673</td>\n",
        "    </tr>\n",
        "  </tbody>\n",
        "</table>\n",
        "</div>"
       ],
       "metadata": {},
       "output_type": "pyout",
       "prompt_number": 952,
       "text": [
        "        preactA   mon1act   mon2act   mon3act\n",
        "email                                        \n",
        "False  0.517028  0.222222  0.228070  0.086957\n",
        "True   0.482673  0.256329  0.241497  0.183673"
       ]
      }
     ],
     "prompt_number": 952
    },
    {
     "cell_type": "markdown",
     "metadata": {},
     "source": [
      "Based on the tables & graph above, there appears to be a big difference in the amount loaned in the 0.5 months prior to receiving the emails ('hmpre'), between the treatment and control groups. Specifically, there are more higher activity users in the treatment group. "
     ]
    },
    {
     "cell_type": "markdown",
     "metadata": {},
     "source": [
      "We can select only users below some threshold from the two groups in order to be able to compare activity in the post-email period. "
     ]
    },
    {
     "cell_type": "code",
     "collapsed": false,
     "input": [
      "# Select only users below a threshhold\n",
      "# Here the 'threshhold' is to only include users that were inactive\n",
      "#    in the 0.5 month period before the email\n",
      "testComp=newComp[newComp['prelendA']<40]\n",
      "#testComp=newComp\n"
     ],
     "language": "python",
     "metadata": {},
     "outputs": [],
     "prompt_number": 953
    },
    {
     "cell_type": "markdown",
     "metadata": {},
     "source": [
      "The table above compares the mean amount given in the 0.5 months before the email was received between treatment and control groups, provided only users with 0 loans in the 'pre' period. As shown below, this still leaves 250+ participants in each group (although we'll see later only 100+ have data for 1+ months in the post period)."
     ]
    },
    {
     "cell_type": "code",
     "collapsed": false,
     "input": [
      "testComp[['prelend','email']].groupby('email').count()\n"
     ],
     "language": "python",
     "metadata": {},
     "outputs": [
      {
       "html": [
        "<div style=\"max-height:1000px;max-width:1500px;overflow:auto;\">\n",
        "<table border=\"1\" class=\"dataframe\">\n",
        "  <thead>\n",
        "    <tr style=\"text-align: right;\">\n",
        "      <th></th>\n",
        "      <th>prelend</th>\n",
        "    </tr>\n",
        "    <tr>\n",
        "      <th>email</th>\n",
        "      <th></th>\n",
        "    </tr>\n",
        "  </thead>\n",
        "  <tbody>\n",
        "    <tr>\n",
        "      <th>False</th>\n",
        "      <td> 219</td>\n",
        "    </tr>\n",
        "    <tr>\n",
        "      <th>True </th>\n",
        "      <td> 280</td>\n",
        "    </tr>\n",
        "  </tbody>\n",
        "</table>\n",
        "</div>"
       ],
       "metadata": {},
       "output_type": "pyout",
       "prompt_number": 954,
       "text": [
        "       prelend\n",
        "email         \n",
        "False      219\n",
        "True       280"
       ]
      }
     ],
     "prompt_number": 954
    },
    {
     "cell_type": "code",
     "collapsed": false,
     "input": [
      "newComp[['prelend','email']].groupby('email').count()\n"
     ],
     "language": "python",
     "metadata": {},
     "outputs": [
      {
       "html": [
        "<div style=\"max-height:1000px;max-width:1500px;overflow:auto;\">\n",
        "<table border=\"1\" class=\"dataframe\">\n",
        "  <thead>\n",
        "    <tr style=\"text-align: right;\">\n",
        "      <th></th>\n",
        "      <th>prelend</th>\n",
        "    </tr>\n",
        "    <tr>\n",
        "      <th>email</th>\n",
        "      <th></th>\n",
        "    </tr>\n",
        "  </thead>\n",
        "  <tbody>\n",
        "    <tr>\n",
        "      <th>False</th>\n",
        "      <td> 323</td>\n",
        "    </tr>\n",
        "    <tr>\n",
        "      <th>True </th>\n",
        "      <td> 404</td>\n",
        "    </tr>\n",
        "  </tbody>\n",
        "</table>\n",
        "</div>"
       ],
       "metadata": {},
       "output_type": "pyout",
       "prompt_number": 955,
       "text": [
        "       prelend\n",
        "email         \n",
        "False      323\n",
        "True       404"
       ]
      }
     ],
     "prompt_number": 955
    },
    {
     "cell_type": "markdown",
     "metadata": {},
     "source": [
      "The table below shows how many "
     ]
    },
    {
     "cell_type": "code",
     "collapsed": false,
     "input": [
      "testComp[['preact','mon1act','mon2act','mon3act','postSum','email']].groupby('email').count()"
     ],
     "language": "python",
     "metadata": {},
     "outputs": [
      {
       "html": [
        "<div style=\"max-height:1000px;max-width:1500px;overflow:auto;\">\n",
        "<table border=\"1\" class=\"dataframe\">\n",
        "  <thead>\n",
        "    <tr style=\"text-align: right;\">\n",
        "      <th></th>\n",
        "      <th>preact</th>\n",
        "      <th>mon1act</th>\n",
        "      <th>mon2act</th>\n",
        "      <th>mon3act</th>\n",
        "      <th>postSum</th>\n",
        "    </tr>\n",
        "    <tr>\n",
        "      <th>email</th>\n",
        "      <th></th>\n",
        "      <th></th>\n",
        "      <th></th>\n",
        "      <th></th>\n",
        "      <th></th>\n",
        "    </tr>\n",
        "  </thead>\n",
        "  <tbody>\n",
        "    <tr>\n",
        "      <th>False</th>\n",
        "      <td> 219</td>\n",
        "      <td>  93</td>\n",
        "      <td>  49</td>\n",
        "      <td>  21</td>\n",
        "      <td>  93</td>\n",
        "    </tr>\n",
        "    <tr>\n",
        "      <th>True </th>\n",
        "      <td> 280</td>\n",
        "      <td> 221</td>\n",
        "      <td> 207</td>\n",
        "      <td> 155</td>\n",
        "      <td> 221</td>\n",
        "    </tr>\n",
        "  </tbody>\n",
        "</table>\n",
        "</div>"
       ],
       "metadata": {},
       "output_type": "pyout",
       "prompt_number": 956,
       "text": [
        "       preact  mon1act  mon2act  mon3act  postSum\n",
        "email                                            \n",
        "False     219       93       49       21       93\n",
        "True      280      221      207      155      221"
       ]
      }
     ],
     "prompt_number": 956
    },
    {
     "cell_type": "code",
     "collapsed": false,
     "input": [],
     "language": "python",
     "metadata": {},
     "outputs": [],
     "prompt_number": 956
    },
    {
     "cell_type": "markdown",
     "metadata": {},
     "source": [
      "Implement t-test for impact of Emails on retention, lending for new users"
     ]
    },
    {
     "cell_type": "code",
     "collapsed": false,
     "input": [
      "#We can run a t-test to show if \n",
      "from scipy.stats import ttest_ind\n",
      "\n",
      "def emailTtest(dframe, depvar):\n",
      "    # Run t-test comparing those who received email vs those who didn't\n",
      "    # Select rows of treatment and control groups that have values for the \n",
      "    #    dependent variable of interest \n",
      "    # Note: Scipy runs 2-tailed t-test, so for 1-tailed pval, divide by 2\n",
      "    Treatframe = dframe[(dframe['email']==True) & (dframe[depvar]>-1)]\n",
      "    Contframe = dframe[(dframe['email']==False) & (dframe[depvar]>-1)]\n",
      "    # outputs are t-statistic and p-value\n",
      "    return  ttest_ind(Treatframe[depvar], Contframe[depvar])\n",
      "\n"
     ],
     "language": "python",
     "metadata": {},
     "outputs": [],
     "prompt_number": 957
    },
    {
     "cell_type": "code",
     "collapsed": false,
     "input": [
      "#Dependent variable of interest:\n",
      "output='postSum'\n",
      "(tstat,pval)=emailTtest(testComp,output)\n",
      "print tstat,pval"
     ],
     "language": "python",
     "metadata": {},
     "outputs": [
      {
       "output_type": "stream",
       "stream": "stdout",
       "text": [
        "1.24337429988 0.214663413471\n"
       ]
      }
     ],
     "prompt_number": 958
    },
    {
     "cell_type": "code",
     "collapsed": false,
     "input": [
      "#Histogram distributions in the whole data set for treatment and control group\n",
      "a=subplot(1,2,1)\n",
      "plt.hist(list(newComp['postSum'][(newComp['email']==True) &\\\n",
      "                                 (newComp['postSum']>-1)]),40)\n",
      "a=subplot(1,2,2)\n",
      "plt.hist(list(newComp['postSum'][(newComp['email']==False) &\\\n",
      "                                 (newComp['postSum']>-1)]),40);"
     ],
     "language": "python",
     "metadata": {},
     "outputs": [
      {
       "metadata": {},
       "output_type": "display_data",
       "png": "[encoded data removed]",
       "text": [
        "<matplotlib.figure.Figure at 0x13d1bcb10>"
       ]
      }
     ],
     "prompt_number": 959
    },
    {
     "cell_type": "markdown",
     "metadata": {},
     "source": [
      "Tables below show the mean for test and control groups for activity and lending."
     ]
    },
    {
     "cell_type": "code",
     "collapsed": false,
     "input": [
      "testComp[['preactA','mon1act','mon2act','mon3act','email']].\\\n",
      "        groupby('email').mean()"
     ],
     "language": "python",
     "metadata": {},
     "outputs": [
      {
       "html": [
        "<div style=\"max-height:1000px;max-width:1500px;overflow:auto;\">\n",
        "<table border=\"1\" class=\"dataframe\">\n",
        "  <thead>\n",
        "    <tr style=\"text-align: right;\">\n",
        "      <th></th>\n",
        "      <th>preactA</th>\n",
        "      <th>mon1act</th>\n",
        "      <th>mon2act</th>\n",
        "      <th>mon3act</th>\n",
        "    </tr>\n",
        "    <tr>\n",
        "      <th>email</th>\n",
        "      <th></th>\n",
        "      <th></th>\n",
        "      <th></th>\n",
        "      <th></th>\n",
        "    </tr>\n",
        "  </thead>\n",
        "  <tbody>\n",
        "    <tr>\n",
        "      <th>False</th>\n",
        "      <td> 0.287671</td>\n",
        "      <td> 0.150538</td>\n",
        "      <td> 0.163265</td>\n",
        "      <td> 0.047619</td>\n",
        "    </tr>\n",
        "    <tr>\n",
        "      <th>True </th>\n",
        "      <td> 0.253571</td>\n",
        "      <td> 0.126697</td>\n",
        "      <td> 0.120773</td>\n",
        "      <td> 0.109677</td>\n",
        "    </tr>\n",
        "  </tbody>\n",
        "</table>\n",
        "</div>"
       ],
       "metadata": {},
       "output_type": "pyout",
       "prompt_number": 960,
       "text": [
        "        preactA   mon1act   mon2act   mon3act\n",
        "email                                        \n",
        "False  0.287671  0.150538  0.163265  0.047619\n",
        "True   0.253571  0.126697  0.120773  0.109677"
       ]
      }
     ],
     "prompt_number": 960
    },
    {
     "cell_type": "code",
     "collapsed": false,
     "input": [
      "testComp[['prelendA','mon1lend','mon2lend','mon3lend','postSum','email']].\\\n",
      "        groupby('email').mean()"
     ],
     "language": "python",
     "metadata": {},
     "outputs": [
      {
       "html": [
        "<div style=\"max-height:1000px;max-width:1500px;overflow:auto;\">\n",
        "<table border=\"1\" class=\"dataframe\">\n",
        "  <thead>\n",
        "    <tr style=\"text-align: right;\">\n",
        "      <th></th>\n",
        "      <th>prelendA</th>\n",
        "      <th>mon1lend</th>\n",
        "      <th>mon2lend</th>\n",
        "      <th>mon3lend</th>\n",
        "      <th>postSum</th>\n",
        "    </tr>\n",
        "    <tr>\n",
        "      <th>email</th>\n",
        "      <th></th>\n",
        "      <th></th>\n",
        "      <th></th>\n",
        "      <th></th>\n",
        "      <th></th>\n",
        "    </tr>\n",
        "  </thead>\n",
        "  <tbody>\n",
        "    <tr>\n",
        "      <th>False</th>\n",
        "      <td> 5.425471</td>\n",
        "      <td> 2.558710</td>\n",
        "      <td> 5.236163</td>\n",
        "      <td>  0.654762</td>\n",
        "      <td>  3.003918</td>\n",
        "    </tr>\n",
        "    <tr>\n",
        "      <th>True </th>\n",
        "      <td> 5.390063</td>\n",
        "      <td> 6.284887</td>\n",
        "      <td> 8.711473</td>\n",
        "      <td> 22.320523</td>\n",
        "      <td> 11.323810</td>\n",
        "    </tr>\n",
        "  </tbody>\n",
        "</table>\n",
        "</div>"
       ],
       "metadata": {},
       "output_type": "pyout",
       "prompt_number": 961,
       "text": [
        "       prelendA  mon1lend  mon2lend   mon3lend    postSum\n",
        "email                                                    \n",
        "False  5.425471  2.558710  5.236163   0.654762   3.003918\n",
        "True   5.390063  6.284887  8.711473  22.320523  11.323810"
       ]
      }
     ],
     "prompt_number": 961
    },
    {
     "cell_type": "code",
     "collapsed": false,
     "input": [
      "a=subplot(1,2,1)\n",
      "lendingbymonth=testComp[['prelendA','mon1lend','mon2lend','mon3lend','email',]]\\\n",
      "    .groupby('email').mean()\n",
      "plt.bar([1,2,3,4],lendingbymonth.iloc[0,:],width=.3)\n",
      "plt.bar([1.3,2.3,3.3,4.3],lendingbymonth.iloc[1,:],width=.3,color='red')\n",
      "plt.xticks([1.3,2.3,3.3,4.3], ['monthly average prior','1st month post',\\\n",
      "                               '2nd month post',\\\n",
      "             '3rd month post','4th month post'], rotation='vertical');\n",
      "a.set_ylabel('average $ loaned/lender')\n",
      "\n",
      "b=subplot(1,2,2)\n",
      "activitybymonth=testComp[['preactA','mon1act','mon2act','mon3act','email',]]\\\n",
      "    .groupby('email').mean()\n",
      "plt.bar([1,2,3,4],activitybymonth.iloc[0,:],width=.3)\n",
      "plt.bar([1.3,2.3,3.3,4.3],activitybymonth.iloc[1,:],width=.3,color='red')\n",
      "plt.xticks([1.3,2.3,3.3,4.3], ['active btwn bid1 & email','1st month post',\\\n",
      "                               '1st month post',\\\n",
      "                               '2nd month post',\\\n",
      "             '3rd month post','4th month post'], rotation='vertical');\n",
      "b.set_ylabel('fraction active')"
     ],
     "language": "python",
     "metadata": {},
     "outputs": [
      {
       "metadata": {},
       "output_type": "pyout",
       "prompt_number": 962,
       "text": [
        "<matplotlib.text.Text at 0x13d646250>"
       ]
      },
      {
       "metadata": {},
       "output_type": "display_data",
       "png": "[encoded data removed]",
       "text": [
        "<matplotlib.figure.Figure at 0x13d0a11d0>"
       ]
      }
     ],
     "prompt_number": 962
    },
    {
     "cell_type": "markdown",
     "metadata": {},
     "source": [
      "This figure shows mean lending & fraction active by month for case when we've restricted analysis to those with lending of $40/month or less in the period between the first bid and receiving a personal email from Zidisha staff for the treatment group (red) and the control group (blue).   \n",
      "\n",
      "Here we see that activity does not appear to be strongly affected by receipt of the email.  \n",
      "\n",
      "The mean lending does appear to increase, however, after receiving the email. According to the ttest conducted above, the mean monthly lending was about $11 after receiving a personal email, compared to about $3 monthly lending for those who did not receive the email. This difference in means has a one-tailed p-value of 0.11. I.e., it is more likely than not that those that received a personal email did lend more than those that did not, following receipt of the email, however there is an 11% chance that a difference of this size or greater could have occured through random chance. "
     ]
    },
    {
     "cell_type": "code",
     "collapsed": false,
     "input": [],
     "language": "python",
     "metadata": {},
     "outputs": []
    }
   ],
   "metadata": {}
  }
 ]
}